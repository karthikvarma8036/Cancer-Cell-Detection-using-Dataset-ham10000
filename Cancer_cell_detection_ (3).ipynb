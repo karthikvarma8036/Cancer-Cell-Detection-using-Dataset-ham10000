{
  "nbformat": 4,
  "nbformat_minor": 0,
  "metadata": {
    "colab": {
      "provenance": []
    },
    "kernelspec": {
      "name": "python3",
      "display_name": "Python 3"
    },
    "language_info": {
      "name": "python"
    }
  },
  "cells": [
    {
      "cell_type": "code",
      "source": [
        "!pip install opendatasets"
      ],
      "metadata": {
        "colab": {
          "base_uri": "https://localhost:8080/"
        },
        "id": "M90SaUazZtoz",
        "outputId": "c953dd4c-6d8e-49a1-975d-816a9bf9566d"
      },
      "execution_count": 1,
      "outputs": [
        {
          "output_type": "stream",
          "name": "stdout",
          "text": [
            "Looking in indexes: https://pypi.org/simple, https://us-python.pkg.dev/colab-wheels/public/simple/\n",
            "Collecting opendatasets\n",
            "  Downloading opendatasets-0.1.22-py3-none-any.whl (15 kB)\n",
            "Requirement already satisfied: tqdm in /usr/local/lib/python3.10/dist-packages (from opendatasets) (4.65.0)\n",
            "Requirement already satisfied: kaggle in /usr/local/lib/python3.10/dist-packages (from opendatasets) (1.5.13)\n",
            "Requirement already satisfied: click in /usr/local/lib/python3.10/dist-packages (from opendatasets) (8.1.3)\n",
            "Requirement already satisfied: six>=1.10 in /usr/local/lib/python3.10/dist-packages (from kaggle->opendatasets) (1.16.0)\n",
            "Requirement already satisfied: certifi in /usr/local/lib/python3.10/dist-packages (from kaggle->opendatasets) (2022.12.7)\n",
            "Requirement already satisfied: python-dateutil in /usr/local/lib/python3.10/dist-packages (from kaggle->opendatasets) (2.8.2)\n",
            "Requirement already satisfied: requests in /usr/local/lib/python3.10/dist-packages (from kaggle->opendatasets) (2.27.1)\n",
            "Requirement already satisfied: python-slugify in /usr/local/lib/python3.10/dist-packages (from kaggle->opendatasets) (8.0.1)\n",
            "Requirement already satisfied: urllib3 in /usr/local/lib/python3.10/dist-packages (from kaggle->opendatasets) (1.26.15)\n",
            "Requirement already satisfied: text-unidecode>=1.3 in /usr/local/lib/python3.10/dist-packages (from python-slugify->kaggle->opendatasets) (1.3)\n",
            "Requirement already satisfied: charset-normalizer~=2.0.0 in /usr/local/lib/python3.10/dist-packages (from requests->kaggle->opendatasets) (2.0.12)\n",
            "Requirement already satisfied: idna<4,>=2.5 in /usr/local/lib/python3.10/dist-packages (from requests->kaggle->opendatasets) (3.4)\n",
            "Installing collected packages: opendatasets\n",
            "Successfully installed opendatasets-0.1.22\n"
          ]
        }
      ]
    },
    {
      "cell_type": "code",
      "source": [
        "pip install pandas"
      ],
      "metadata": {
        "colab": {
          "base_uri": "https://localhost:8080/"
        },
        "id": "J7QZc64dZ2VT",
        "outputId": "0e4bb0eb-126d-48e5-fe3f-b651bf23972a"
      },
      "execution_count": 2,
      "outputs": [
        {
          "output_type": "stream",
          "name": "stdout",
          "text": [
            "Looking in indexes: https://pypi.org/simple, https://us-python.pkg.dev/colab-wheels/public/simple/\n",
            "Requirement already satisfied: pandas in /usr/local/lib/python3.10/dist-packages (1.5.3)\n",
            "Requirement already satisfied: python-dateutil>=2.8.1 in /usr/local/lib/python3.10/dist-packages (from pandas) (2.8.2)\n",
            "Requirement already satisfied: pytz>=2020.1 in /usr/local/lib/python3.10/dist-packages (from pandas) (2022.7.1)\n",
            "Requirement already satisfied: numpy>=1.21.0 in /usr/local/lib/python3.10/dist-packages (from pandas) (1.22.4)\n",
            "Requirement already satisfied: six>=1.5 in /usr/local/lib/python3.10/dist-packages (from python-dateutil>=2.8.1->pandas) (1.16.0)\n"
          ]
        }
      ]
    },
    {
      "cell_type": "code",
      "source": [
        "import opendatasets as od\n",
        "import pandas\n",
        "od.download(\n",
        "\t\"https://www.kaggle.com/datasets/kmader/skin-cancer-mnist-ham10000\")\n"
      ],
      "metadata": {
        "colab": {
          "base_uri": "https://localhost:8080/"
        },
        "id": "dbEaE7ikaAru",
        "outputId": "a0f62fe4-9147-4e49-e581-e1132ff63b26"
      },
      "execution_count": 3,
      "outputs": [
        {
          "output_type": "stream",
          "name": "stdout",
          "text": [
            "Please provide your Kaggle credentials to download this dataset. Learn more: http://bit.ly/kaggle-creds\n",
            "Your Kaggle username: karthikvarma56\n",
            "Your Kaggle Key: ··········\n",
            "Downloading skin-cancer-mnist-ham10000.zip to ./skin-cancer-mnist-ham10000\n"
          ]
        },
        {
          "output_type": "stream",
          "name": "stderr",
          "text": [
            "100%|██████████| 5.20G/5.20G [00:52<00:00, 106MB/s] \n"
          ]
        },
        {
          "output_type": "stream",
          "name": "stdout",
          "text": [
            "\n"
          ]
        }
      ]
    },
    {
      "cell_type": "code",
      "source": [
        "import numpy as np\n",
        "import tensorflow as tf\n",
        "import PIL\n",
        "import os\n",
        "import random\n",
        "import pandas as pd\n",
        "import matplotlib.pyplot as plt\n",
        "import gc"
      ],
      "metadata": {
        "id": "aVnY1B1XcRJG"
      },
      "execution_count": 4,
      "outputs": []
    },
    {
      "cell_type": "code",
      "source": [
        "def plot_Model_lossAcc(his):\n",
        "    plt.figure(figsize = (16,8))\n",
        "\n",
        "    plt.subplot(2,2,1)\n",
        "    plt.plot(his.history['loss'])\n",
        "    plt.plot(his.history['val_loss'])\n",
        "    plt.title('Model Loss')\n",
        "    plt.ylabel('Loss')\n",
        "    plt.xlabel('Epoch')\n",
        "    plt.legend(['Training', 'Validation'], loc='upper right')\n",
        "    plt.show()\n",
        "\n",
        "    plt.figure(figsize = (16,8))\n",
        "\n",
        "    plt.subplot(2,2,2)\n",
        "    plt.plot(his.history['accuracy'])\n",
        "    plt.plot(his.history['val_accuracy'])\n",
        "    plt.title('Model Accuracy')\n",
        "    plt.ylabel('Accuracy')\n",
        "    plt.xlabel('Epoch')\n",
        "    plt.legend(['Training', 'Validation'], loc='lower right')\n",
        "    plt.show()"
      ],
      "metadata": {
        "id": "wrSV-aTr_voI"
      },
      "execution_count": 5,
      "outputs": []
    },
    {
      "cell_type": "code",
      "source": [
        "path = '/content/skin-cancer-mnist-ham10000/'\n",
        "p1 = 'HAM10000_images_part_1/'\n",
        "p2 = 'HAM10000_images_part_2/'\n",
        "meta = 'HAM10000_metadata.csv'"
      ],
      "metadata": {
        "id": "SgEZDwFU_6wm"
      },
      "execution_count": 6,
      "outputs": []
    },
    {
      "cell_type": "code",
      "source": [
        "cancer_df = pd.read_csv(path+meta)"
      ],
      "metadata": {
        "id": "NSASuIqDA9uv"
      },
      "execution_count": 7,
      "outputs": []
    },
    {
      "cell_type": "code",
      "source": [
        "print(cancer_df['dx'].unique())\n",
        "classnames = cancer_df['dx'].unique()\n",
        "separate_dict = {}\n",
        "\n",
        "for unique_class in classnames:\n",
        "    temp = cancer_df.loc[cancer_df['dx'] == unique_class,['image_id']]\n",
        "    separate_dict[unique_class] = temp['image_id'].tolist()\n",
        "print(separate_dict.keys())"
      ],
      "metadata": {
        "colab": {
          "base_uri": "https://localhost:8080/"
        },
        "id": "qkWbjw47BC7e",
        "outputId": "fd7283f3-bccc-492c-d45b-43f13b7faec5"
      },
      "execution_count": 8,
      "outputs": [
        {
          "output_type": "stream",
          "name": "stdout",
          "text": [
            "['bkl' 'nv' 'df' 'mel' 'vasc' 'bcc' 'akiec']\n",
            "dict_keys(['bkl', 'nv', 'df', 'mel', 'vasc', 'bcc', 'akiec'])\n"
          ]
        }
      ]
    },
    {
      "cell_type": "code",
      "source": [
        "name = [(os.listdir(path + x)) for x in os.listdir(path) if os.path.isdir(path + x)]\n",
        "name.remove(name[3])\n",
        "name.remove(name[1])\n",
        "all_names = name[0]+name[1]\n",
        "all_path = [path+p1+x for x in name[0]]+[path+p2+x for x in name[1]]"
      ],
      "metadata": {
        "id": "LajISY0oBGub"
      },
      "execution_count": 9,
      "outputs": []
    },
    {
      "cell_type": "code",
      "source": [
        "# Generate one hot encodings for all classes\n",
        "encoder_keys = list(separate_dict.keys())\n",
        "encoder_template = {}\n",
        "for i in encoder_keys:\n",
        "    if i == 'bkl':\n",
        "        encoder_template[i] = [1,0,0,0,0,0,0]\n",
        "    elif i == 'nv':\n",
        "        encoder_template[i] = [0,1,0,0,0,0,0]\n",
        "    elif i == 'df':\n",
        "        encoder_template[i] = [0,0,1,0,0,0,0]\n",
        "    elif i == 'mel':\n",
        "        encoder_template[i] = [0,0,0,1,0,0,0]\n",
        "    elif i == 'vasc':\n",
        "        encoder_template[i] = [0,0,0,0,1,0,0]\n",
        "    elif i == 'bcc':\n",
        "        encoder_template[i] = [0,0,0,0,0,1,0]\n",
        "    elif i == 'akiec':\n",
        "        encoder_template[i] = [0,0,0,0,0,0,1]\n",
        "\n",
        "print(encoder_template)"
      ],
      "metadata": {
        "colab": {
          "base_uri": "https://localhost:8080/"
        },
        "id": "YKjYT2mzBK4T",
        "outputId": "f9f8dc54-681d-4cfc-df9f-1b971e57c498"
      },
      "execution_count": 10,
      "outputs": [
        {
          "output_type": "stream",
          "name": "stdout",
          "text": [
            "{'bkl': [1, 0, 0, 0, 0, 0, 0], 'nv': [0, 1, 0, 0, 0, 0, 0], 'df': [0, 0, 1, 0, 0, 0, 0], 'mel': [0, 0, 0, 1, 0, 0, 0], 'vasc': [0, 0, 0, 0, 1, 0, 0], 'bcc': [0, 0, 0, 0, 0, 1, 0], 'akiec': [0, 0, 0, 0, 0, 0, 1]}\n"
          ]
        }
      ]
    },
    {
      "cell_type": "code",
      "source": [
        "# Generate one hot encodings\n",
        "all_encodings = []\n",
        "for img_name in all_names:\n",
        "    temp1 = img_name.split('.')\n",
        "    if temp1[0] in separate_dict['bkl']:\n",
        "        all_encodings.append(encoder_template['bkl'])\n",
        "\n",
        "    elif temp1[0] in separate_dict['nv']:\n",
        "        all_encodings.append(encoder_template['nv'])\n",
        "\n",
        "    elif temp1[0] in separate_dict['df']:\n",
        "        all_encodings.append(encoder_template['df'])\n",
        "\n",
        "    elif temp1[0] in separate_dict['mel']:\n",
        "        all_encodings.append(encoder_template['mel'])\n",
        "\n",
        "    elif temp1[0] in separate_dict['vasc']:\n",
        "        all_encodings.append(encoder_template['vasc'])\n",
        "\n",
        "    elif temp1[0] in separate_dict['bcc']:\n",
        "        all_encodings.append(encoder_template['bcc'])\n",
        "\n",
        "    elif temp1[0] in separate_dict['akiec']:\n",
        "        all_encodings.append(encoder_template['akiec'])\n",
        "\n",
        "print(len(all_encodings))"
      ],
      "metadata": {
        "colab": {
          "base_uri": "https://localhost:8080/"
        },
        "id": "L8KmczxyBO0J",
        "outputId": "58145fdc-ea75-450b-9d54-acbcc3a97cd4"
      },
      "execution_count": 11,
      "outputs": [
        {
          "output_type": "stream",
          "name": "stdout",
          "text": [
            "10015\n"
          ]
        }
      ]
    },
    {
      "cell_type": "code",
      "source": [
        "# Assign one hot encodings to all the image paths in sync\n",
        "all_path_encodings = list(zip(all_path,all_encodings))\n",
        "random.shuffle(all_path_encodings)\n",
        "all_path,all_encodings = zip(*all_path_encodings)\n",
        "\n",
        "print(all_path_encodings[0])"
      ],
      "metadata": {
        "colab": {
          "base_uri": "https://localhost:8080/"
        },
        "id": "2UoWsKzRBU6L",
        "outputId": "80e7f32a-77a3-493b-e048-15cdd67dd353"
      },
      "execution_count": 12,
      "outputs": [
        {
          "output_type": "stream",
          "name": "stdout",
          "text": [
            "('/content/skin-cancer-mnist-ham10000/HAM10000_images_part_2/ISIC_0030803.jpg', [0, 0, 0, 0, 0, 0, 1])\n"
          ]
        }
      ]
    },
    {
      "cell_type": "code",
      "source": [
        "data_pipeline = tf.data.Dataset.from_tensor_slices((list(all_path),list(all_encodings)))"
      ],
      "metadata": {
        "id": "bsjrJGDFBZc9"
      },
      "execution_count": 13,
      "outputs": []
    },
    {
      "cell_type": "code",
      "source": [
        "del all_path, all_encodings, all_path_encodings, all_names, name, separate_dict, encoder_keys, encoder_template, classnames, cancer_df\n",
        "gc.collect()"
      ],
      "metadata": {
        "colab": {
          "base_uri": "https://localhost:8080/"
        },
        "id": "FRysSieZBeiL",
        "outputId": "e5e5ccec-4dc0-4f7e-c8d4-878cc20cc0d7"
      },
      "execution_count": 14,
      "outputs": [
        {
          "output_type": "execute_result",
          "data": {
            "text/plain": [
              "43"
            ]
          },
          "metadata": {},
          "execution_count": 14
        }
      ]
    },
    {
      "cell_type": "code",
      "source": [
        "def load_images_and_process(image_path,one_hot_vec):\n",
        "    '''load images and decode jpeg'''\n",
        "    image = tf.io.read_file(image_path)\n",
        "    image = tf.image.decode_jpeg(image, channels=3)\n",
        "#     return image,one_hot_vec\n",
        "\n",
        "# def process_image(image,one_hot_vec):\n",
        "    '''normalise from 0-255 to 0-1'''\n",
        "#     image = tf.cast(image, tf.float16) / 255.0\n",
        "    image = tf.image.resize(image, [90,120])\n",
        "    image = image/255\n",
        "    return image,one_hot_vec"
      ],
      "metadata": {
        "id": "3otrHeR1BiZf"
      },
      "execution_count": 15,
      "outputs": []
    },
    {
      "cell_type": "code",
      "source": [
        "data_pipeline = data_pipeline.map(load_images_and_process).prefetch(tf.data.AUTOTUNE)#.map(process_image)"
      ],
      "metadata": {
        "id": "SOmHaiXKBqSU"
      },
      "execution_count": 16,
      "outputs": []
    },
    {
      "cell_type": "code",
      "source": [
        "# Train, test, validation split\n",
        "train_size = int(0.8*len(data_pipeline))\n",
        "val_size = int(0.1*len(data_pipeline))\n",
        "test_size =int(len(data_pipeline)) - train_size - val_size\n",
        "print(len(data_pipeline),train_size,val_size,test_size)\n",
        "\n",
        "train_ds = data_pipeline.take(train_size)\n",
        "val_ds = data_pipeline.take(val_size)\n",
        "test_ds = data_pipeline.take(test_size)\n",
        "\n",
        "\n",
        "train_ds = train_ds.shuffle(10000)\n",
        "val_ds = val_ds.shuffle(1000)\n",
        "test_ds = test_ds.shuffle(1000)"
      ],
      "metadata": {
        "colab": {
          "base_uri": "https://localhost:8080/"
        },
        "id": "qMeNAbHTB_lW",
        "outputId": "8ed661a5-3e01-4eb0-f692-dffd2187ef8e"
      },
      "execution_count": 17,
      "outputs": [
        {
          "output_type": "stream",
          "name": "stdout",
          "text": [
            "10015 8012 1001 1002\n"
          ]
        }
      ]
    },
    {
      "cell_type": "code",
      "source": [
        "print(len(val_ds),len(train_ds),len(test_ds))\n",
        "del data_pipeline\n",
        "gc.collect()"
      ],
      "metadata": {
        "colab": {
          "base_uri": "https://localhost:8080/"
        },
        "id": "Jny0M6UjCEKf",
        "outputId": "69356f88-c8f4-4268-8d2f-4a67164510f2"
      },
      "execution_count": 18,
      "outputs": [
        {
          "output_type": "stream",
          "name": "stdout",
          "text": [
            "1001 8012 1002\n"
          ]
        },
        {
          "output_type": "execute_result",
          "data": {
            "text/plain": [
              "0"
            ]
          },
          "metadata": {},
          "execution_count": 18
        }
      ]
    },
    {
      "cell_type": "code",
      "source": [
        "# Model building\n",
        "\n",
        "model = tf.keras.Sequential()\n",
        "\n",
        "model.add(tf.keras.layers.Conv2D(30, (5,5),strides = (1,1), padding = 'valid', activation = 'relu', input_shape = (90,120, 3)))\n",
        "# model.add(tf.keras.layers.Conv2D(32, (3,3),strides = (1,1), padding = 'valid', activation = 'relu', input_shape = (32,32,2)))\n",
        "model.add(tf.keras.layers.Conv2D(30,(3,3),strides = (1,1), padding = 'valid', activation = 'relu'))\n",
        "model.add(tf.keras.layers.BatchNormalization())\n",
        "model.add(tf.keras.layers.MaxPool2D(pool_size=(2,2), strides = None, padding = 'valid'))\n",
        "\n",
        "model.add(tf.keras.layers.Conv2D(20,(3,3), strides = (1,1), padding = 'valid', activation = 'relu'))\n",
        "model.add(tf.keras.layers.Conv2D(15,(3,3),strides = (1,1), padding = 'valid', activation = 'relu'))\n",
        "# model.add(tf.keras.layers.GroupNormalization(groups=8))\n",
        "# model.add(tf.keras.layers.BatchNormalization())\n",
        "\n",
        "model.add(tf.keras.layers.Conv2D(15, (3,3),strides = (1,1), padding = 'valid', activation = 'relu'))\n",
        "model.add(tf.keras.layers.GroupNormalization(groups=3))\n",
        "# model.add(tf.keras.layers.BatchNormalization())\n",
        "model.add(tf.keras.layers.MaxPool2D(pool_size=(2,2), strides = None, padding = 'valid'))\n",
        "\n",
        "# model.add(tf.keras.layers.Conv2D(8, (3,3),strides = (1,1), padding = 'valid', activation = 'relu'))\n",
        "# model.add(tf.keras.layers.Conv2D(8, (3,3),strides = (1,1), padding = 'valid', activation = 'relu'))\n",
        "# model.add(tf.keras.layers.GroupNormalization(groups=8))\n",
        "# # model.add(tf.keras.layers.Conv2D(6, (3,3),strides = (1,1), padding = 'valid', activation = 'relu'))\n",
        "# model.add(tf.keras.layers.GroupNormalization(groups=8))\n",
        "\n",
        "# model.add(tf.keras.layers.Conv2D(6, (3,3),strides = (1,1), padding = 'valid', activation = 'relu'))\n",
        "# model.add(tf.keras.layers.GroupNormalization(groups=6))\n",
        "\n",
        "model.add(tf.keras.layers.Conv2D(10, (3,3),strides = (1,1), padding = 'valid', activation = 'relu'))\n",
        "# model.add(tf.keras.layers.GroupNormalization(groups=6))\n",
        "\n",
        "# model.add(tf.keras.layers.Conv2D(64, (3,3),strides = (1,1), padding = 'valid', activation = 'relu'))\n",
        "# model.add(tf.keras.layers.Conv2D(64, (3,3),strides = (1,1), padding = 'valid', activation = 'relu'))\n",
        "\n",
        "# model.add(tf.keras.layers.MaxPool2D(pool_size=(2,2), strides = None, padding = 'valid'))\n",
        "# model.add(tf.keras.layers.Conv2D(8,(3,3), strides = (1,1), padding = 'valid', activation = 'relu'))\n",
        "# model.add(tf.keras.layers.Conv2D(4,(3,3), strides = (1,1), padding = 'valid', activation = 'relu'))\n",
        "\n",
        "\n",
        "model.add(tf.keras.layers.Flatten())\n",
        "model.add(tf.keras.layers.Normalization())\n",
        "# model.add(tf.keras.layers.Dropout(0.3))\n",
        "# model.add(tf.keras.layers.Dense(1024,activation = 'relu'))\n",
        "model.add(tf.keras.layers.Dense(256,activation = 'relu'))\n",
        "\n",
        "# model.add(tf.keras.layers.LayerNormalization())\n",
        "# model.add(tf.keras.layers.Dropout(0.2))\n",
        "model.add(tf.keras.layers.BatchNormalization())\n",
        "model.add(tf.keras.layers.Dropout(0.1))\n",
        "model.add(tf.keras.layers.Dense(128,activation = 'relu'))\n",
        "# model.add(tf.keras.layers.Normalization())\n",
        "\n",
        "# model.add(tf.keras.layers.Dense(64,activation = 'relu'))\n",
        "# model.add(tf.keras.layers.Normalization())\n",
        "\n",
        "# model.add(tf.keras.layers.Dense(128,activation = 'relu'))\n",
        "\n",
        "model.add(tf.keras.layers.Dense(7,activation = 'softmax'))"
      ],
      "metadata": {
        "id": "VSizCnTNCIFH"
      },
      "execution_count": 19,
      "outputs": []
    },
    {
      "cell_type": "code",
      "source": [
        "model.compile(optimizer = tf.keras.optimizers.Adam(), loss = 'categorical_crossentropy', metrics = ['accuracy'])"
      ],
      "metadata": {
        "id": "PiKy3WOjCOgO"
      },
      "execution_count": 20,
      "outputs": []
    },
    {
      "cell_type": "code",
      "source": [
        "model.summary()"
      ],
      "metadata": {
        "colab": {
          "base_uri": "https://localhost:8080/"
        },
        "id": "IVqLcwJWCSVN",
        "outputId": "4953b4bb-a005-4b77-c513-5ecf6b7d9039"
      },
      "execution_count": 21,
      "outputs": [
        {
          "output_type": "stream",
          "name": "stdout",
          "text": [
            "Model: \"sequential\"\n",
            "_________________________________________________________________\n",
            " Layer (type)                Output Shape              Param #   \n",
            "=================================================================\n",
            " conv2d (Conv2D)             (None, 86, 116, 30)       2280      \n",
            "                                                                 \n",
            " conv2d_1 (Conv2D)           (None, 84, 114, 30)       8130      \n",
            "                                                                 \n",
            " batch_normalization (BatchN  (None, 84, 114, 30)      120       \n",
            " ormalization)                                                   \n",
            "                                                                 \n",
            " max_pooling2d (MaxPooling2D  (None, 42, 57, 30)       0         \n",
            " )                                                               \n",
            "                                                                 \n",
            " conv2d_2 (Conv2D)           (None, 40, 55, 20)        5420      \n",
            "                                                                 \n",
            " conv2d_3 (Conv2D)           (None, 38, 53, 15)        2715      \n",
            "                                                                 \n",
            " conv2d_4 (Conv2D)           (None, 36, 51, 15)        2040      \n",
            "                                                                 \n",
            " group_normalization (GroupN  (None, 36, 51, 15)       30        \n",
            " ormalization)                                                   \n",
            "                                                                 \n",
            " max_pooling2d_1 (MaxPooling  (None, 18, 25, 15)       0         \n",
            " 2D)                                                             \n",
            "                                                                 \n",
            " conv2d_5 (Conv2D)           (None, 16, 23, 10)        1360      \n",
            "                                                                 \n",
            " flatten (Flatten)           (None, 3680)              0         \n",
            "                                                                 \n",
            " normalization (Normalizatio  (None, 3680)             7361      \n",
            " n)                                                              \n",
            "                                                                 \n",
            " dense (Dense)               (None, 256)               942336    \n",
            "                                                                 \n",
            " batch_normalization_1 (Batc  (None, 256)              1024      \n",
            " hNormalization)                                                 \n",
            "                                                                 \n",
            " dropout (Dropout)           (None, 256)               0         \n",
            "                                                                 \n",
            " dense_1 (Dense)             (None, 128)               32896     \n",
            "                                                                 \n",
            " dense_2 (Dense)             (None, 7)                 903       \n",
            "                                                                 \n",
            "=================================================================\n",
            "Total params: 1,006,615\n",
            "Trainable params: 998,682\n",
            "Non-trainable params: 7,933\n",
            "_________________________________________________________________\n"
          ]
        }
      ]
    },
    {
      "cell_type": "code",
      "source": [
        "epochs = 20\n",
        "batch_size = 8\n",
        "\n",
        "checkpoint_filepath = '/content/'\n",
        "model_checkpoint_callback = tf.keras.callbacks.ModelCheckpoint(filepath=checkpoint_filepath, save_weights_only=False, monitor='val_accuracy')\n",
        "EarlyStop = tf.keras.callbacks.EarlyStopping(monitor='EarlyStopping', patience=5)\n",
        "def scheduler(epoch, lr):\n",
        "    flr = 1e-3\n",
        "    if epoch < epochs*0.1 :\n",
        "        return flr\n",
        "    elif epoch > epochs*0.1 and epoch < epochs*0.25:\n",
        "        lr *= tf.math.exp(-0.1)\n",
        "        return lr\n",
        "    else:\n",
        "        lr *= tf.math.exp(-0.008)\n",
        "#         return lr * tf.math.exp(-0.004)\n",
        "        return lr\n",
        "learning_rate_callback = tf.keras.callbacks.LearningRateScheduler(scheduler)\n",
        "\n",
        "# Memory clear on every epoch\n",
        "class MemoryClearCallback(tf.keras.callbacks.Callback):\n",
        "    def on_epoch_end(self, epoch, logs=None):\n",
        "        gc.collect()\n",
        "memory_clear_callback = MemoryClearCallback()"
      ],
      "metadata": {
        "id": "rBov4RyJCU_W"
      },
      "execution_count": 22,
      "outputs": []
    },
    {
      "cell_type": "code",
      "source": [
        "history = model.fit(train_ds.batch(batch_size),epochs=epochs,validation_data=val_ds.batch(batch_size),callbacks=[model_checkpoint_callback,EarlyStop,memory_clear_callback],shuffle=True)"
      ],
      "metadata": {
        "colab": {
          "base_uri": "https://localhost:8080/"
        },
        "id": "wbHx26-gCj5T",
        "outputId": "2256a003-66ff-4b6b-b792-58212630c770"
      },
      "execution_count": 23,
      "outputs": [
        {
          "output_type": "stream",
          "name": "stdout",
          "text": [
            "Epoch 1/20\n",
            "1002/1002 [==============================] - ETA: 0s - loss: 1.0586 - accuracy: 0.6505"
          ]
        },
        {
          "output_type": "stream",
          "name": "stderr",
          "text": [
            "WARNING:absl:Found untraced functions such as _jit_compiled_convolution_op, _jit_compiled_convolution_op, _jit_compiled_convolution_op, _jit_compiled_convolution_op, _jit_compiled_convolution_op while saving (showing 5 of 7). These functions will not be directly callable after loading.\n",
            "WARNING:tensorflow:Early stopping conditioned on metric `EarlyStopping` which is not available. Available metrics are: loss,accuracy,val_loss,val_accuracy\n"
          ]
        },
        {
          "output_type": "stream",
          "name": "stdout",
          "text": [
            "\b\b\b\b\b\b\b\b\b\b\b\b\b\b\b\b\b\b\b\b\b\b\b\b\b\b\b\b\b\b\b\b\b\b\b\b\b\b\b\b\b\b\b\b\b\b\b\b\b\b\b\b\b\b\b\b\b\b\b\b\b\b\b\b\b\b\b\b\b\b\b\b\b\b\b\b\b\b\b\b\b\b\b\b\b\b\r1002/1002 [==============================] - 463s 391ms/step - loss: 1.0586 - accuracy: 0.6505 - val_loss: 1.4215 - val_accuracy: 0.4625\n",
            "Epoch 2/20\n",
            "1002/1002 [==============================] - ETA: 0s - loss: 0.9590 - accuracy: 0.6680"
          ]
        },
        {
          "output_type": "stream",
          "name": "stderr",
          "text": [
            "WARNING:absl:Found untraced functions such as _jit_compiled_convolution_op, _jit_compiled_convolution_op, _jit_compiled_convolution_op, _jit_compiled_convolution_op, _jit_compiled_convolution_op while saving (showing 5 of 7). These functions will not be directly callable after loading.\n",
            "WARNING:tensorflow:Early stopping conditioned on metric `EarlyStopping` which is not available. Available metrics are: loss,accuracy,val_loss,val_accuracy\n"
          ]
        },
        {
          "output_type": "stream",
          "name": "stdout",
          "text": [
            "\b\b\b\b\b\b\b\b\b\b\b\b\b\b\b\b\b\b\b\b\b\b\b\b\b\b\b\b\b\b\b\b\b\b\b\b\b\b\b\b\b\b\b\b\b\b\b\b\b\b\b\b\b\b\b\b\b\b\b\b\b\b\b\b\b\b\b\b\b\b\b\b\b\b\b\b\b\b\b\b\b\b\b\b\b\b\r1002/1002 [==============================] - 442s 391ms/step - loss: 0.9590 - accuracy: 0.6680 - val_loss: 1.3357 - val_accuracy: 0.4605\n",
            "Epoch 3/20\n",
            "1002/1002 [==============================] - ETA: 0s - loss: 0.8889 - accuracy: 0.6840"
          ]
        },
        {
          "output_type": "stream",
          "name": "stderr",
          "text": [
            "WARNING:absl:Found untraced functions such as _jit_compiled_convolution_op, _jit_compiled_convolution_op, _jit_compiled_convolution_op, _jit_compiled_convolution_op, _jit_compiled_convolution_op while saving (showing 5 of 7). These functions will not be directly callable after loading.\n",
            "WARNING:tensorflow:Early stopping conditioned on metric `EarlyStopping` which is not available. Available metrics are: loss,accuracy,val_loss,val_accuracy\n"
          ]
        },
        {
          "output_type": "stream",
          "name": "stdout",
          "text": [
            "\b\b\b\b\b\b\b\b\b\b\b\b\b\b\b\b\b\b\b\b\b\b\b\b\b\b\b\b\b\b\b\b\b\b\b\b\b\b\b\b\b\b\b\b\b\b\b\b\b\b\b\b\b\b\b\b\b\b\b\b\b\b\b\b\b\b\b\b\b\b\b\b\b\b\b\b\b\b\b\b\b\b\b\b\b\b\r1002/1002 [==============================] - 436s 384ms/step - loss: 0.8889 - accuracy: 0.6840 - val_loss: 1.1633 - val_accuracy: 0.5764\n",
            "Epoch 4/20\n",
            "1002/1002 [==============================] - ETA: 0s - loss: 0.8325 - accuracy: 0.6985"
          ]
        },
        {
          "output_type": "stream",
          "name": "stderr",
          "text": [
            "WARNING:absl:Found untraced functions such as _jit_compiled_convolution_op, _jit_compiled_convolution_op, _jit_compiled_convolution_op, _jit_compiled_convolution_op, _jit_compiled_convolution_op while saving (showing 5 of 7). These functions will not be directly callable after loading.\n",
            "WARNING:tensorflow:Early stopping conditioned on metric `EarlyStopping` which is not available. Available metrics are: loss,accuracy,val_loss,val_accuracy\n"
          ]
        },
        {
          "output_type": "stream",
          "name": "stdout",
          "text": [
            "\b\b\b\b\b\b\b\b\b\b\b\b\b\b\b\b\b\b\b\b\b\b\b\b\b\b\b\b\b\b\b\b\b\b\b\b\b\b\b\b\b\b\b\b\b\b\b\b\b\b\b\b\b\b\b\b\b\b\b\b\b\b\b\b\b\b\b\b\b\b\b\b\b\b\b\b\b\b\b\b\b\b\b\b\b\b\r1002/1002 [==============================] - 440s 391ms/step - loss: 0.8325 - accuracy: 0.6985 - val_loss: 0.7867 - val_accuracy: 0.7253\n",
            "Epoch 5/20\n",
            "1002/1002 [==============================] - ETA: 0s - loss: 0.8103 - accuracy: 0.7079"
          ]
        },
        {
          "output_type": "stream",
          "name": "stderr",
          "text": [
            "WARNING:absl:Found untraced functions such as _jit_compiled_convolution_op, _jit_compiled_convolution_op, _jit_compiled_convolution_op, _jit_compiled_convolution_op, _jit_compiled_convolution_op while saving (showing 5 of 7). These functions will not be directly callable after loading.\n",
            "WARNING:tensorflow:Early stopping conditioned on metric `EarlyStopping` which is not available. Available metrics are: loss,accuracy,val_loss,val_accuracy\n"
          ]
        },
        {
          "output_type": "stream",
          "name": "stdout",
          "text": [
            "\b\b\b\b\b\b\b\b\b\b\b\b\b\b\b\b\b\b\b\b\b\b\b\b\b\b\b\b\b\b\b\b\b\b\b\b\b\b\b\b\b\b\b\b\b\b\b\b\b\b\b\b\b\b\b\b\b\b\b\b\b\b\b\b\b\b\b\b\b\b\b\b\b\b\b\b\b\b\b\b\b\b\b\b\b\b\r1002/1002 [==============================] - 437s 384ms/step - loss: 0.8103 - accuracy: 0.7079 - val_loss: 0.8409 - val_accuracy: 0.7063\n",
            "Epoch 6/20\n",
            "1002/1002 [==============================] - ETA: 0s - loss: 0.7858 - accuracy: 0.7149"
          ]
        },
        {
          "output_type": "stream",
          "name": "stderr",
          "text": [
            "WARNING:absl:Found untraced functions such as _jit_compiled_convolution_op, _jit_compiled_convolution_op, _jit_compiled_convolution_op, _jit_compiled_convolution_op, _jit_compiled_convolution_op while saving (showing 5 of 7). These functions will not be directly callable after loading.\n",
            "WARNING:tensorflow:Early stopping conditioned on metric `EarlyStopping` which is not available. Available metrics are: loss,accuracy,val_loss,val_accuracy\n"
          ]
        },
        {
          "output_type": "stream",
          "name": "stdout",
          "text": [
            "\b\b\b\b\b\b\b\b\b\b\b\b\b\b\b\b\b\b\b\b\b\b\b\b\b\b\b\b\b\b\b\b\b\b\b\b\b\b\b\b\b\b\b\b\b\b\b\b\b\b\b\b\b\b\b\b\b\b\b\b\b\b\b\b\b\b\b\b\b\b\b\b\b\b\b\b\b\b\b\b\b\b\b\b\b\b\r1002/1002 [==============================] - 435s 384ms/step - loss: 0.7858 - accuracy: 0.7149 - val_loss: 0.9741 - val_accuracy: 0.6933\n",
            "Epoch 7/20\n",
            "1002/1002 [==============================] - ETA: 0s - loss: 0.7571 - accuracy: 0.7208"
          ]
        },
        {
          "output_type": "stream",
          "name": "stderr",
          "text": [
            "WARNING:absl:Found untraced functions such as _jit_compiled_convolution_op, _jit_compiled_convolution_op, _jit_compiled_convolution_op, _jit_compiled_convolution_op, _jit_compiled_convolution_op while saving (showing 5 of 7). These functions will not be directly callable after loading.\n",
            "WARNING:tensorflow:Early stopping conditioned on metric `EarlyStopping` which is not available. Available metrics are: loss,accuracy,val_loss,val_accuracy\n"
          ]
        },
        {
          "output_type": "stream",
          "name": "stdout",
          "text": [
            "\b\b\b\b\b\b\b\b\b\b\b\b\b\b\b\b\b\b\b\b\b\b\b\b\b\b\b\b\b\b\b\b\b\b\b\b\b\b\b\b\b\b\b\b\b\b\b\b\b\b\b\b\b\b\b\b\b\b\b\b\b\b\b\b\b\b\b\b\b\b\b\b\b\b\b\b\b\b\b\b\b\b\b\b\b\b\r1002/1002 [==============================] - 444s 393ms/step - loss: 0.7571 - accuracy: 0.7208 - val_loss: 0.7142 - val_accuracy: 0.7263\n",
            "Epoch 8/20\n",
            "1002/1002 [==============================] - ETA: 0s - loss: 0.7294 - accuracy: 0.7353"
          ]
        },
        {
          "output_type": "stream",
          "name": "stderr",
          "text": [
            "WARNING:absl:Found untraced functions such as _jit_compiled_convolution_op, _jit_compiled_convolution_op, _jit_compiled_convolution_op, _jit_compiled_convolution_op, _jit_compiled_convolution_op while saving (showing 5 of 7). These functions will not be directly callable after loading.\n",
            "WARNING:tensorflow:Early stopping conditioned on metric `EarlyStopping` which is not available. Available metrics are: loss,accuracy,val_loss,val_accuracy\n"
          ]
        },
        {
          "output_type": "stream",
          "name": "stdout",
          "text": [
            "\b\b\b\b\b\b\b\b\b\b\b\b\b\b\b\b\b\b\b\b\b\b\b\b\b\b\b\b\b\b\b\b\b\b\b\b\b\b\b\b\b\b\b\b\b\b\b\b\b\b\b\b\b\b\b\b\b\b\b\b\b\b\b\b\b\b\b\b\b\b\b\b\b\b\b\b\b\b\b\b\b\b\b\b\b\b\r1002/1002 [==============================] - 431s 380ms/step - loss: 0.7294 - accuracy: 0.7353 - val_loss: 0.8736 - val_accuracy: 0.6833\n",
            "Epoch 9/20\n",
            "1002/1002 [==============================] - ETA: 0s - loss: 0.7121 - accuracy: 0.7368"
          ]
        },
        {
          "output_type": "stream",
          "name": "stderr",
          "text": [
            "WARNING:absl:Found untraced functions such as _jit_compiled_convolution_op, _jit_compiled_convolution_op, _jit_compiled_convolution_op, _jit_compiled_convolution_op, _jit_compiled_convolution_op while saving (showing 5 of 7). These functions will not be directly callable after loading.\n",
            "WARNING:tensorflow:Early stopping conditioned on metric `EarlyStopping` which is not available. Available metrics are: loss,accuracy,val_loss,val_accuracy\n"
          ]
        },
        {
          "output_type": "stream",
          "name": "stdout",
          "text": [
            "\b\b\b\b\b\b\b\b\b\b\b\b\b\b\b\b\b\b\b\b\b\b\b\b\b\b\b\b\b\b\b\b\b\b\b\b\b\b\b\b\b\b\b\b\b\b\b\b\b\b\b\b\b\b\b\b\b\b\b\b\b\b\b\b\b\b\b\b\b\b\b\b\b\b\b\b\b\b\b\b\b\b\b\b\b\b\r1002/1002 [==============================] - 437s 386ms/step - loss: 0.7121 - accuracy: 0.7368 - val_loss: 0.7670 - val_accuracy: 0.7273\n",
            "Epoch 10/20\n",
            "1002/1002 [==============================] - ETA: 0s - loss: 0.6746 - accuracy: 0.7494"
          ]
        },
        {
          "output_type": "stream",
          "name": "stderr",
          "text": [
            "WARNING:absl:Found untraced functions such as _jit_compiled_convolution_op, _jit_compiled_convolution_op, _jit_compiled_convolution_op, _jit_compiled_convolution_op, _jit_compiled_convolution_op while saving (showing 5 of 7). These functions will not be directly callable after loading.\n",
            "WARNING:tensorflow:Early stopping conditioned on metric `EarlyStopping` which is not available. Available metrics are: loss,accuracy,val_loss,val_accuracy\n"
          ]
        },
        {
          "output_type": "stream",
          "name": "stdout",
          "text": [
            "\b\b\b\b\b\b\b\b\b\b\b\b\b\b\b\b\b\b\b\b\b\b\b\b\b\b\b\b\b\b\b\b\b\b\b\b\b\b\b\b\b\b\b\b\b\b\b\b\b\b\b\b\b\b\b\b\b\b\b\b\b\b\b\b\b\b\b\b\b\b\b\b\b\b\b\b\b\b\b\b\b\b\b\b\b\b\r1002/1002 [==============================] - 433s 381ms/step - loss: 0.6746 - accuracy: 0.7494 - val_loss: 1.9904 - val_accuracy: 0.6653\n",
            "Epoch 11/20\n",
            "1002/1002 [==============================] - ETA: 0s - loss: 0.6727 - accuracy: 0.7504"
          ]
        },
        {
          "output_type": "stream",
          "name": "stderr",
          "text": [
            "WARNING:absl:Found untraced functions such as _jit_compiled_convolution_op, _jit_compiled_convolution_op, _jit_compiled_convolution_op, _jit_compiled_convolution_op, _jit_compiled_convolution_op while saving (showing 5 of 7). These functions will not be directly callable after loading.\n",
            "WARNING:tensorflow:Early stopping conditioned on metric `EarlyStopping` which is not available. Available metrics are: loss,accuracy,val_loss,val_accuracy\n"
          ]
        },
        {
          "output_type": "stream",
          "name": "stdout",
          "text": [
            "\b\b\b\b\b\b\b\b\b\b\b\b\b\b\b\b\b\b\b\b\b\b\b\b\b\b\b\b\b\b\b\b\b\b\b\b\b\b\b\b\b\b\b\b\b\b\b\b\b\b\b\b\b\b\b\b\b\b\b\b\b\b\b\b\b\b\b\b\b\b\b\b\b\b\b\b\b\b\b\b\b\b\b\b\b\b\r1002/1002 [==============================] - 441s 384ms/step - loss: 0.6727 - accuracy: 0.7504 - val_loss: 0.7881 - val_accuracy: 0.7033\n",
            "Epoch 12/20\n",
            "1002/1002 [==============================] - ETA: 0s - loss: 0.6879 - accuracy: 0.7490"
          ]
        },
        {
          "output_type": "stream",
          "name": "stderr",
          "text": [
            "WARNING:absl:Found untraced functions such as _jit_compiled_convolution_op, _jit_compiled_convolution_op, _jit_compiled_convolution_op, _jit_compiled_convolution_op, _jit_compiled_convolution_op while saving (showing 5 of 7). These functions will not be directly callable after loading.\n",
            "WARNING:tensorflow:Early stopping conditioned on metric `EarlyStopping` which is not available. Available metrics are: loss,accuracy,val_loss,val_accuracy\n"
          ]
        },
        {
          "output_type": "stream",
          "name": "stdout",
          "text": [
            "\b\b\b\b\b\b\b\b\b\b\b\b\b\b\b\b\b\b\b\b\b\b\b\b\b\b\b\b\b\b\b\b\b\b\b\b\b\b\b\b\b\b\b\b\b\b\b\b\b\b\b\b\b\b\b\b\b\b\b\b\b\b\b\b\b\b\b\b\b\b\b\b\b\b\b\b\b\b\b\b\b\b\b\b\b\b\r1002/1002 [==============================] - 433s 382ms/step - loss: 0.6879 - accuracy: 0.7490 - val_loss: 0.7094 - val_accuracy: 0.7353\n",
            "Epoch 13/20\n",
            "1002/1002 [==============================] - ETA: 0s - loss: 0.6217 - accuracy: 0.7742"
          ]
        },
        {
          "output_type": "stream",
          "name": "stderr",
          "text": [
            "WARNING:absl:Found untraced functions such as _jit_compiled_convolution_op, _jit_compiled_convolution_op, _jit_compiled_convolution_op, _jit_compiled_convolution_op, _jit_compiled_convolution_op while saving (showing 5 of 7). These functions will not be directly callable after loading.\n",
            "WARNING:tensorflow:Early stopping conditioned on metric `EarlyStopping` which is not available. Available metrics are: loss,accuracy,val_loss,val_accuracy\n"
          ]
        },
        {
          "output_type": "stream",
          "name": "stdout",
          "text": [
            "\b\b\b\b\b\b\b\b\b\b\b\b\b\b\b\b\b\b\b\b\b\b\b\b\b\b\b\b\b\b\b\b\b\b\b\b\b\b\b\b\b\b\b\b\b\b\b\b\b\b\b\b\b\b\b\b\b\b\b\b\b\b\b\b\b\b\b\b\b\b\b\b\b\b\b\b\b\b\b\b\b\b\b\b\b\b\r1002/1002 [==============================] - 438s 381ms/step - loss: 0.6217 - accuracy: 0.7742 - val_loss: 0.7055 - val_accuracy: 0.7512\n",
            "Epoch 14/20\n",
            "1002/1002 [==============================] - ETA: 0s - loss: 0.5730 - accuracy: 0.7903"
          ]
        },
        {
          "output_type": "stream",
          "name": "stderr",
          "text": [
            "WARNING:absl:Found untraced functions such as _jit_compiled_convolution_op, _jit_compiled_convolution_op, _jit_compiled_convolution_op, _jit_compiled_convolution_op, _jit_compiled_convolution_op while saving (showing 5 of 7). These functions will not be directly callable after loading.\n",
            "WARNING:tensorflow:Early stopping conditioned on metric `EarlyStopping` which is not available. Available metrics are: loss,accuracy,val_loss,val_accuracy\n"
          ]
        },
        {
          "output_type": "stream",
          "name": "stdout",
          "text": [
            "\b\b\b\b\b\b\b\b\b\b\b\b\b\b\b\b\b\b\b\b\b\b\b\b\b\b\b\b\b\b\b\b\b\b\b\b\b\b\b\b\b\b\b\b\b\b\b\b\b\b\b\b\b\b\b\b\b\b\b\b\b\b\b\b\b\b\b\b\b\b\b\b\b\b\b\b\b\b\b\b\b\b\b\b\b\b\r1002/1002 [==============================] - 437s 386ms/step - loss: 0.5730 - accuracy: 0.7903 - val_loss: 0.4726 - val_accuracy: 0.8182\n",
            "Epoch 15/20\n",
            "1002/1002 [==============================] - ETA: 0s - loss: 0.5135 - accuracy: 0.8089"
          ]
        },
        {
          "output_type": "stream",
          "name": "stderr",
          "text": [
            "WARNING:absl:Found untraced functions such as _jit_compiled_convolution_op, _jit_compiled_convolution_op, _jit_compiled_convolution_op, _jit_compiled_convolution_op, _jit_compiled_convolution_op while saving (showing 5 of 7). These functions will not be directly callable after loading.\n",
            "WARNING:tensorflow:Early stopping conditioned on metric `EarlyStopping` which is not available. Available metrics are: loss,accuracy,val_loss,val_accuracy\n"
          ]
        },
        {
          "output_type": "stream",
          "name": "stdout",
          "text": [
            "\b\b\b\b\b\b\b\b\b\b\b\b\b\b\b\b\b\b\b\b\b\b\b\b\b\b\b\b\b\b\b\b\b\b\b\b\b\b\b\b\b\b\b\b\b\b\b\b\b\b\b\b\b\b\b\b\b\b\b\b\b\b\b\b\b\b\b\b\b\b\b\b\b\b\b\b\b\b\b\b\b\b\b\b\b\b\r1002/1002 [==============================] - 446s 394ms/step - loss: 0.5135 - accuracy: 0.8089 - val_loss: 0.5095 - val_accuracy: 0.7972\n",
            "Epoch 16/20\n",
            "1002/1002 [==============================] - ETA: 0s - loss: 0.5008 - accuracy: 0.8152"
          ]
        },
        {
          "output_type": "stream",
          "name": "stderr",
          "text": [
            "WARNING:absl:Found untraced functions such as _jit_compiled_convolution_op, _jit_compiled_convolution_op, _jit_compiled_convolution_op, _jit_compiled_convolution_op, _jit_compiled_convolution_op while saving (showing 5 of 7). These functions will not be directly callable after loading.\n",
            "WARNING:tensorflow:Early stopping conditioned on metric `EarlyStopping` which is not available. Available metrics are: loss,accuracy,val_loss,val_accuracy\n"
          ]
        },
        {
          "output_type": "stream",
          "name": "stdout",
          "text": [
            "\b\b\b\b\b\b\b\b\b\b\b\b\b\b\b\b\b\b\b\b\b\b\b\b\b\b\b\b\b\b\b\b\b\b\b\b\b\b\b\b\b\b\b\b\b\b\b\b\b\b\b\b\b\b\b\b\b\b\b\b\b\b\b\b\b\b\b\b\b\b\b\b\b\b\b\b\b\b\b\b\b\b\b\b\b\b\r1002/1002 [==============================] - 433s 382ms/step - loss: 0.5008 - accuracy: 0.8152 - val_loss: 0.5736 - val_accuracy: 0.8102\n",
            "Epoch 17/20\n",
            "1002/1002 [==============================] - ETA: 0s - loss: 0.4715 - accuracy: 0.8281"
          ]
        },
        {
          "output_type": "stream",
          "name": "stderr",
          "text": [
            "WARNING:absl:Found untraced functions such as _jit_compiled_convolution_op, _jit_compiled_convolution_op, _jit_compiled_convolution_op, _jit_compiled_convolution_op, _jit_compiled_convolution_op while saving (showing 5 of 7). These functions will not be directly callable after loading.\n",
            "WARNING:tensorflow:Early stopping conditioned on metric `EarlyStopping` which is not available. Available metrics are: loss,accuracy,val_loss,val_accuracy\n"
          ]
        },
        {
          "output_type": "stream",
          "name": "stdout",
          "text": [
            "\b\b\b\b\b\b\b\b\b\b\b\b\b\b\b\b\b\b\b\b\b\b\b\b\b\b\b\b\b\b\b\b\b\b\b\b\b\b\b\b\b\b\b\b\b\b\b\b\b\b\b\b\b\b\b\b\b\b\b\b\b\b\b\b\b\b\b\b\b\b\b\b\b\b\b\b\b\b\b\b\b\b\b\b\b\b\r1002/1002 [==============================] - 445s 386ms/step - loss: 0.4715 - accuracy: 0.8281 - val_loss: 0.6086 - val_accuracy: 0.7842\n",
            "Epoch 18/20\n",
            "1002/1002 [==============================] - ETA: 0s - loss: 0.3949 - accuracy: 0.8537"
          ]
        },
        {
          "output_type": "stream",
          "name": "stderr",
          "text": [
            "WARNING:absl:Found untraced functions such as _jit_compiled_convolution_op, _jit_compiled_convolution_op, _jit_compiled_convolution_op, _jit_compiled_convolution_op, _jit_compiled_convolution_op while saving (showing 5 of 7). These functions will not be directly callable after loading.\n",
            "WARNING:tensorflow:Early stopping conditioned on metric `EarlyStopping` which is not available. Available metrics are: loss,accuracy,val_loss,val_accuracy\n"
          ]
        },
        {
          "output_type": "stream",
          "name": "stdout",
          "text": [
            "\b\b\b\b\b\b\b\b\b\b\b\b\b\b\b\b\b\b\b\b\b\b\b\b\b\b\b\b\b\b\b\b\b\b\b\b\b\b\b\b\b\b\b\b\b\b\b\b\b\b\b\b\b\b\b\b\b\b\b\b\b\b\b\b\b\b\b\b\b\b\b\b\b\b\b\b\b\b\b\b\b\b\b\b\b\b\r1002/1002 [==============================] - 436s 386ms/step - loss: 0.3949 - accuracy: 0.8537 - val_loss: 0.4420 - val_accuracy: 0.8342\n",
            "Epoch 19/20\n",
            "1002/1002 [==============================] - ETA: 0s - loss: 0.3484 - accuracy: 0.8733"
          ]
        },
        {
          "output_type": "stream",
          "name": "stderr",
          "text": [
            "WARNING:absl:Found untraced functions such as _jit_compiled_convolution_op, _jit_compiled_convolution_op, _jit_compiled_convolution_op, _jit_compiled_convolution_op, _jit_compiled_convolution_op while saving (showing 5 of 7). These functions will not be directly callable after loading.\n",
            "WARNING:tensorflow:Early stopping conditioned on metric `EarlyStopping` which is not available. Available metrics are: loss,accuracy,val_loss,val_accuracy\n"
          ]
        },
        {
          "output_type": "stream",
          "name": "stdout",
          "text": [
            "\b\b\b\b\b\b\b\b\b\b\b\b\b\b\b\b\b\b\b\b\b\b\b\b\b\b\b\b\b\b\b\b\b\b\b\b\b\b\b\b\b\b\b\b\b\b\b\b\b\b\b\b\b\b\b\b\b\b\b\b\b\b\b\b\b\b\b\b\b\b\b\b\b\b\b\b\b\b\b\b\b\b\b\b\b\b\r1002/1002 [==============================] - 437s 386ms/step - loss: 0.3484 - accuracy: 0.8733 - val_loss: 0.6016 - val_accuracy: 0.8232\n",
            "Epoch 20/20\n",
            "1002/1002 [==============================] - ETA: 0s - loss: 0.3305 - accuracy: 0.8817"
          ]
        },
        {
          "output_type": "stream",
          "name": "stderr",
          "text": [
            "WARNING:absl:Found untraced functions such as _jit_compiled_convolution_op, _jit_compiled_convolution_op, _jit_compiled_convolution_op, _jit_compiled_convolution_op, _jit_compiled_convolution_op while saving (showing 5 of 7). These functions will not be directly callable after loading.\n",
            "WARNING:tensorflow:Early stopping conditioned on metric `EarlyStopping` which is not available. Available metrics are: loss,accuracy,val_loss,val_accuracy\n"
          ]
        },
        {
          "output_type": "stream",
          "name": "stdout",
          "text": [
            "\b\b\b\b\b\b\b\b\b\b\b\b\b\b\b\b\b\b\b\b\b\b\b\b\b\b\b\b\b\b\b\b\b\b\b\b\b\b\b\b\b\b\b\b\b\b\b\b\b\b\b\b\b\b\b\b\b\b\b\b\b\b\b\b\b\b\b\b\b\b\b\b\b\b\b\b\b\b\b\b\b\b\b\b\b\b\r1002/1002 [==============================] - 441s 384ms/step - loss: 0.3305 - accuracy: 0.8817 - val_loss: 0.1470 - val_accuracy: 0.9451\n"
          ]
        }
      ]
    },
    {
      "cell_type": "code",
      "source": [
        "plot_Model_lossAcc(history)"
      ],
      "metadata": {
        "colab": {
          "base_uri": "https://localhost:8080/",
          "height": 747
        },
        "id": "qh0h8U5iECIj",
        "outputId": "75f26f5d-f971-4c19-e9e3-7071e45d417b"
      },
      "execution_count": 24,
      "outputs": [
        {
          "output_type": "display_data",
          "data": {
            "text/plain": [
              "<Figure size 1600x800 with 1 Axes>"
            ],
            "image/png": "[encoded data removed]"
          },
          "metadata": {}
        },
        {
          "output_type": "display_data",
          "data": {
            "text/plain": [
              "<Figure size 1600x800 with 1 Axes>"
            ],
            "image/png": "[encoded data removed]"
          },
          "metadata": {}
        }
      ]
    },
    {
      "cell_type": "code",
      "source": [
        "import shutil\n",
        "shutil.make_archive('recentbestmo', 'zip', '/content')"
      ],
      "metadata": {
        "id": "8_lOxjJnSVjo"
      },
      "execution_count": null,
      "outputs": []
    }
  ]
}